{
 "cells": [
  {
   "cell_type": "code",
   "execution_count": 159,
   "id": "falling-express",
   "metadata": {},
   "outputs": [],
   "source": [
    "import numpy as np\n",
    "import pandas as pd\n",
    "\n",
    "data = pd.read_csv(\"titanic_data.csv\")\n",
    "df = pd.DataFrame(data)"
   ]
  },
  {
   "cell_type": "code",
   "execution_count": 160,
   "id": "329e0de6",
   "metadata": {
    "scrolled": true
   },
   "outputs": [
    {
     "data": {
      "text/plain": [
       "array([-0.5336015 ,  2.7526719 , -0.01618139, -0.33772808, -0.14603545,\n",
       "        0.0096048 ])"
      ]
     },
     "execution_count": 160,
     "metadata": {},
     "output_type": "execute_result"
    }
   ],
   "source": [
    "learning_rate = 0.005\n",
    "likelihoods = []\n",
    "epsilon = 1e-7\n",
    "\n",
    "X = np.array(data.iloc[:,1:])\n",
    "Y = np.array(data.iloc[:,0])\n",
    "\n",
    "# Define the sigmoid function \n",
    "def sigmoid(z):\n",
    "    sigmoid_z = 1/(1+np.exp(-z))\n",
    "    return sigmoid_z\n",
    "\n",
    "# Define the log likelihood\n",
    "def log_likelihood(y, y_pred):\n",
    "    likelihood = np.sum(y*np.log(y_pred+epsilon)+(1-y)*np.log(1-y_pred+epsilon))\n",
    "    return likelihood\n",
    "\n",
    "theta = np.zeros((X.shape[1]))\n",
    "\n",
    "# Perform Gradient Ascent\n",
    "\n",
    "for i in range(100000):\n",
    "    \n",
    "    # Calculate z as the product of theta and x\n",
    "    z  = np.dot(X,theta)\n",
    "\n",
    "    # Output probability value by applying sigmoid on z\n",
    "    y_pred = sigmoid(z)\n",
    "\n",
    "    # Calculate gradient values\n",
    "    gradient = np.mean((Y-y_pred)*X.T, axis=1)\n",
    "\n",
    "    # Update theta\n",
    "    theta += learning_rate*gradient\n",
    "    \n",
    "theta"
   ]
  },
  {
   "cell_type": "code",
   "execution_count": 161,
   "id": "7992bf56",
   "metadata": {},
   "outputs": [
    {
     "data": {
      "text/plain": [
       "array([-1.54159442e-09,  1.22123718e-08, -1.24244846e-11, -1.01674532e-09,\n",
       "       -2.10736705e-09,  5.23267062e-12])"
      ]
     },
     "execution_count": 161,
     "metadata": {},
     "output_type": "execute_result"
    }
   ],
   "source": [
    "gradient"
   ]
  },
  {
   "cell_type": "code",
   "execution_count": 162,
   "id": "cede2c6d",
   "metadata": {},
   "outputs": [
    {
     "data": {
      "text/plain": [
       "-403.4565786931986"
      ]
     },
     "execution_count": 162,
     "metadata": {},
     "output_type": "execute_result"
    }
   ],
   "source": [
    "z  = np.dot(X,theta)\n",
    "y_pred = sigmoid(z)\n",
    "log_likelihood(Y,y_pred)"
   ]
  },
  {
   "cell_type": "code",
   "execution_count": 163,
   "id": "7dfc918e",
   "metadata": {},
   "outputs": [
    {
     "data": {
      "text/plain": [
       "array([[ 4.95112514e-03, -4.56236633e-03, -2.51765841e-04,\n",
       "        -1.92464589e-03, -1.07141836e-03,  5.16816843e-05],\n",
       "       [-4.56236633e-03,  3.67201703e-02, -4.68958426e-05,\n",
       "        -2.96899562e-03, -4.71854286e-03,  2.56776269e-06],\n",
       "       [-2.51765841e-04, -4.68958426e-05,  2.69839953e-05,\n",
       "         1.26973008e-04,  7.71811393e-05, -7.71071694e-06],\n",
       "       [-1.92464589e-03, -2.96899562e-03,  1.26973008e-04,\n",
       "         1.07846789e-02, -2.49545935e-03, -7.91951861e-05],\n",
       "       [-1.07141836e-03, -4.71854286e-03,  7.71811393e-05,\n",
       "        -2.49545935e-03,  1.30003013e-02, -7.97791024e-05],\n",
       "       [ 5.16816843e-05,  2.56776269e-06, -7.71071694e-06,\n",
       "        -7.91951861e-05, -7.97791024e-05,  7.13447288e-06]])"
      ]
     },
     "execution_count": 163,
     "metadata": {},
     "output_type": "execute_result"
    }
   ],
   "source": [
    "Fisher = np.zeros((6,6))\n",
    "for i in range(len(X)):\n",
    "    Fisher += (np.exp(-z[i]))/(1+np.exp(-z[i]))**2 * np.outer(X[i], X[i].T)\n",
    "Fisher_inv = np.linalg.inv(Fisher)\n",
    "Fisher_inv"
   ]
  },
  {
   "cell_type": "code",
   "execution_count": 164,
   "id": "6c98c8d8",
   "metadata": {},
   "outputs": [
    {
     "data": {
      "text/plain": [
       "array([[ 8.49186311e+00, -1.83411549e-01,  2.00562141e+01,\n",
       "         3.31440033e-01,  2.12234841e-01,  3.03100879e+01],\n",
       "       [-9.11299467e+00,  6.45470697e+00, -4.53322902e+01,\n",
       "        -3.93140326e+00, -1.31397770e+00,  1.13284097e+02],\n",
       "       [-5.77210560e-03, -1.48217545e-02,  5.79927955e+00,\n",
       "        -7.00765513e-03, -1.73747347e-02, -7.24622863e+00],\n",
       "       [ 1.57472518e+00, -3.96107634e-01, -2.49331802e+00,\n",
       "         9.60501443e+00,  1.09873699e+00, -6.14602453e+01],\n",
       "       [-7.40950837e-01, -5.42455958e-01, -2.02934421e+01,\n",
       "        -6.11814568e-02,  5.25988462e+00, -1.07751613e+02],\n",
       "       [ 1.70581590e-02,  3.48376687e-02,  7.41627833e-01,\n",
       "         2.74980199e-03,  1.60485123e-02,  1.43282855e+01]])"
      ]
     },
     "execution_count": 164,
     "metadata": {},
     "output_type": "execute_result"
    }
   ],
   "source": [
    "omega_var = np.dot(Fisher_inv, X.T).dot(X)\n",
    "omega_var"
   ]
  },
  {
   "cell_type": "code",
   "execution_count": 165,
   "id": "d7e93b70",
   "metadata": {},
   "outputs": [
    {
     "data": {
      "text/plain": [
       "array([ 57.50825312, 206.34987636,   9.70343625,  10.57613861,\n",
       "         1.64045069,  12.93048068])"
      ]
     },
     "execution_count": 165,
     "metadata": {},
     "output_type": "execute_result"
    }
   ],
   "source": [
    "theta**2/(np.diag(Fisher_inv))"
   ]
  },
  {
   "cell_type": "code",
   "execution_count": 166,
   "id": "4e8774d6",
   "metadata": {},
   "outputs": [],
   "source": [
    "x = np.array([3, 1, 30, 0, 0, 100])"
   ]
  },
  {
   "cell_type": "code",
   "execution_count": 167,
   "id": "3d5bd88b",
   "metadata": {},
   "outputs": [
    {
     "data": {
      "text/plain": [
       "1.6269055204442842"
      ]
     },
     "execution_count": 167,
     "metadata": {},
     "output_type": "execute_result"
    }
   ],
   "source": [
    "theta.dot(x)"
   ]
  },
  {
   "cell_type": "code",
   "execution_count": 168,
   "id": "d80bde5c",
   "metadata": {},
   "outputs": [
    {
     "data": {
      "text/plain": [
       "-0.169856521055011"
      ]
     },
     "execution_count": 168,
     "metadata": {},
     "output_type": "execute_result"
    }
   ],
   "source": [
    "from scipy.stats import norm\n",
    "sd = x.dot(Fisher_inv).dot(x)\n",
    "tau = norm.ppf(0.025, scale=sd)\n",
    "tau"
   ]
  },
  {
   "cell_type": "code",
   "execution_count": 169,
   "id": "4e635b37",
   "metadata": {},
   "outputs": [
    {
     "data": {
      "text/plain": [
       "-1.8941503013762506"
      ]
     },
     "execution_count": 169,
     "metadata": {},
     "output_type": "execute_result"
    }
   ],
   "source": [
    "x2 = np.array([3, 0, 30, 0, 0, 20])\n",
    "theta.dot(x2)"
   ]
  }
 ],
 "metadata": {
  "kernelspec": {
   "display_name": "Python 3",
   "language": "python",
   "name": "python3"
  },
  "language_info": {
   "codemirror_mode": {
    "name": "ipython",
    "version": 3
   },
   "file_extension": ".py",
   "mimetype": "text/x-python",
   "name": "python",
   "nbconvert_exporter": "python",
   "pygments_lexer": "ipython3",
   "version": "3.9.0"
  }
 },
 "nbformat": 4,
 "nbformat_minor": 5
}
